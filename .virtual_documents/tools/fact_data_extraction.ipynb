


import requests
import json
from sec_cik_mapper import StockMapper
global symbol

def obtain_10k_value(data, fact,years):
    print(data['facts']['us-gaap'][f'{fact}']['label'])
    print(data['facts']['us-gaap'][f'{fact}']['description'])
    data['facts']['us-gaap'][f'{fact}']['units']['USD']
    data = data['facts']['us-gaap'][f'{fact}']['units']['USD']
    new_list = []
    for i in data:
        if i['form'] == '10-K':
            new_list.append(i)
    return new_list[-years:]







ticker = "armp"
file_path = f"./SEC_company_facts/{ticker.upper()}.json"
with open(file_path, 'r') as f:
    data = json.load(f)
    print(f'{ticker.upper()}.json loaded')





fact = "Property, Plant and Equipment, Net" 


fact = fact.replace(",", "")
words = fact.split()  # split the string into a list of words
words = [word.capitalize() for word in words]  # capitalize each word
fact = "".join(words)  # join the words back into a string


obtain_10k_value(data, fact, 5)





import pandas as pd
import seaborn as sns
import matplotlib.pyplot as plt

# Create a pandas dataframe from the data
data = [{'year': 2021, 'val': 2220000},
        {'year': 2022, 'val': 3617000},
        {'year': 2023, 'val': 12559000}]
df = pd.DataFrame(data)

# Plot the data using seaborn
plt.figure(figsize=(10,6))
sns.barplot(x='year', y='val', data=df, palette="viridis")
plt.title('Property, Plant, and Equipment (Net)')
plt.xlabel('Year')
plt.ylabel('Value ($)')

# Remove the line plot, it's not necessary for a bar chart
# plt.plot(df['year'], df['val'], 'k-')

plt.show()




