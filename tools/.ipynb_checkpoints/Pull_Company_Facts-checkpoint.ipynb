{
 "cells": [
  {
   "cell_type": "code",
   "execution_count": 2,
   "id": "1c3c614b-7889-45f3-a0f7-60950cac24c7",
   "metadata": {},
   "outputs": [
    {
     "name": "stdin",
     "output_type": "stream",
     "text": [
      "Enter a ticker symbol:  armp\n"
     ]
    },
    {
     "name": "stdout",
     "output_type": "stream",
     "text": [
      "https://data.sec.gov/api/xbrl/companyfacts/CIK0000921114.json\n",
      "Response saved as response.json\n"
     ]
    }
   ],
   "source": [
    "import requests\n",
    "import json\n",
    "from sec_cik_mapper import StockMapper\n",
    "global symbol\n",
    "\n",
    "def add_zeros_to_cik():\n",
    "    global symbol\n",
    "    while True:\n",
    "        symbol = input(\"Enter a ticker symbol: \")\n",
    "        mapper = StockMapper()\n",
    "        num = mapper.ticker_to_cik[f'{symbol.upper()}']\n",
    "        if num.isdigit() and 0 < len(num) <= 10:\n",
    "            return str(num).zfill(10)\n",
    "        else:\n",
    "            print(\"Invalid input. Please enter a numeric CIK number with 1-10 digits.\")\n",
    "\n",
    "cik = add_zeros_to_cik()\n",
    "\n",
    "sec_url = f\"https://data.sec.gov/api/xbrl/companyfacts/CIK{cik}.json\"\n",
    "print(sec_url)\n",
    "\n",
    "headers = {\n",
    "    'User-Agent': 'Mozilla/5.0 (Windows NT 10.0; Win64; x64) AppleWebKit/537.36 (KHTML, like Gecko) Chrome/58.0.3029.110 Safari/537.3',\n",
    "    'Accept': 'application/json',\n",
    "    'Accept-Language': 'en-US,en;q=0.5',\n",
    "    'Accept-Encoding': 'gzip, deflate',\n",
    "    'Connection': 'keep-alive'\n",
    "}\n",
    "\n",
    "response = requests.get(sec_url, headers=headers)\n",
    "\n",
    "if response.status_code == 200:\n",
    "    data = response.json()\n",
    "    with open(f'./SEC_company_facts/{symbol.upper()}.json', 'w') as f:\n",
    "        json.dump(data, f, indent=4)\n",
    "    print(f\"Response saved as {symbol.upper()}.json\")\n",
    "else:\n",
    "    print(\"Failed to retrieve data\")\n"
   ]
  },
  {
   "cell_type": "code",
   "execution_count": null,
   "id": "b0aacc62-d98b-48da-9dcb-cb749375cf68",
   "metadata": {},
   "outputs": [],
   "source": []
  }
 ],
 "metadata": {
  "kernelspec": {
   "display_name": "Python 3 (ipykernel)",
   "language": "python",
   "name": "python3"
  },
  "language_info": {
   "codemirror_mode": {
    "name": "ipython",
    "version": 3
   },
   "file_extension": ".py",
   "mimetype": "text/x-python",
   "name": "python",
   "nbconvert_exporter": "python",
   "pygments_lexer": "ipython3",
   "version": "3.12.0"
  }
 },
 "nbformat": 4,
 "nbformat_minor": 5
}
