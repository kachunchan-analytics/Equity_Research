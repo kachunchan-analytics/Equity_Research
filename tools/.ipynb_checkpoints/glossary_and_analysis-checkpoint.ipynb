{
 "cells": [
  {
   "cell_type": "code",
   "execution_count": 22,
   "id": "ce139c7b-81e6-419d-b0b2-824d033006b7",
   "metadata": {},
   "outputs": [
    {
     "name": "stdout",
     "output_type": "stream",
     "text": [
      "Skipping non-JSON file: .ipynb_checkpoints\n",
      "There are 2 Json files loaded\n"
     ]
    }
   ],
   "source": [
    "import pandas as pd\n",
    "import matplotlib.pyplot as plt\n",
    "import os\n",
    "import json\n",
    "\n",
    "stocks_json_files = []\n",
    "counter = 0\n",
    "folder_path = \"./SEC_company_facts\"  # Replace with your actual folder path\n",
    "\n",
    "# Load JSON data from files in the folder\n",
    "for filename in os.listdir(folder_path):\n",
    "    if filename.endswith('.json'):  # only consider files with.json extension\n",
    "        filepath = os.path.join(folder_path, filename)\n",
    "        try:\n",
    "            with open(filepath, 'r') as f:\n",
    "                data = json.load(f)\n",
    "                stocks_json_files.append(data)\n",
    "                counter += 1\n",
    "        except Exception as e:\n",
    "            print(f\"Error loading file {filename}: {str(e)}\")\n",
    "    else:\n",
    "        print(f\"Skipping non-JSON file: {filename}\")\n",
    "\n",
    "print(f\"There are {counter} Json files loaded\")\n",
    "\n",
    "# Create a DataFrame to store the facts and their counts\n",
    "df = pd.DataFrame(columns=['facts', 'count'])\n",
    "\n",
    "# Iterate over the JSON data and update the DataFrame\n",
    "for i in stocks_json_files:\n",
    "    key_list = i['facts']['us-gaap'].keys()\n",
    "    for j in key_list:\n",
    "        if j not in df['facts'].values:\n",
    "            df.loc[len(df)] = [j, 1]  # add fact to the column and set count to 1\n",
    "        else:\n",
    "            idx = df[df['facts'] == j].index[0]\n",
    "            df.at[idx, 'count'] += 1  # increment the count for the existing fact\n",
    "\n",
    "df.to_excel('./glossary/glossary.xlsx', sheet_name='Glossary', index=False)\n",
    "\n"
   ]
  }
 ],
 "metadata": {
  "kernelspec": {
   "display_name": "Python 3 (ipykernel)",
   "language": "python",
   "name": "python3"
  },
  "language_info": {
   "codemirror_mode": {
    "name": "ipython",
    "version": 3
   },
   "file_extension": ".py",
   "mimetype": "text/x-python",
   "name": "python",
   "nbconvert_exporter": "python",
   "pygments_lexer": "ipython3",
   "version": "3.12.0"
  }
 },
 "nbformat": 4,
 "nbformat_minor": 5
}
